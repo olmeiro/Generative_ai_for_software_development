{
 "cells": [
  {
   "cell_type": "markdown",
   "metadata": {},
   "source": [
    "# Ungraded Lab - Building a Doubly Linked List Class with an LLM\n",
    "\n",
    "Welcome to the first ungraded lab of this course! In this lab you'll be working alongside an LLM to update a Linked List class to make it doubly linked. This is a good opportunity to practice your LLM prompting skills and prepare yourself for the programming assignment at the end of this course.\n",
    "\n",
    "# Outline\n",
    "- [ 1 - Introduction](#1)\n",
    "  - [ 1.1 Importing necessary libraries](#1.1)\n",
    "- [ 2 - The `Node` and `LinkedList` Classes to Update](#2)\n",
    "- [ 3 - Test Your Classes](#3)\n",
    "- [ 4 - Go Further with Your LLM Prompting Skills](#4)"
   ]
  },
  {
   "cell_type": "markdown",
   "metadata": {},
   "source": [
    "<a name=\"1\"></a>\n",
    "## 1 - Introduction\n",
    "\n",
    "**Your Task:** Below you'll find the `Node` and `LinkedList` class you saw in the lectures. Your job is to work alongside an LLM to update this class to be a doubly linked list, meaning each node has connections to both its previous and next node. Once you've done that, work with the LLM to further refine the class to account for other concerns common in software engineering like security concerns or scalability. \n",
    "\n",
    "**LLM Access:** You can access OpenAI's GPT-3.5 model [here](https://www.coursera.org/learn/introduction-to-generative-ai-for-software-development/ungradedLab/Vuqvf/gpt-3-5-environment), but feel free to use the LLM you want!\n",
    "\n",
    "**Practice Prompting:** Focus on trying out the prompting skills covered in the lectures:\n",
    "\n",
    "* **Be Specific:** In your prompts provide detail about what you're trying to accomplish and the context in which you're working. For example, it'd be totally appropriate to provide the LLM the class as it's already written and describe the new functionality you're trying to add.\n",
    "* **Provide Feedback:** Iteratively prompt the LLM and provide feedback on the output you receive to get closer to your expected results. In this case, you could try the code you develop alongside the LLM and report back on bugs, unexpected behavior, or stylistic decisions you want improved.\n",
    "* **Assign a Role:** Assign a role to tailor the output you receive from the LLM. At first you might just want to assign the role of \"an experienced Python developer\" but later on try out more specific or expert roles to focus on areas like security or scalability. \n",
    "\n",
    "**Testing Your Class:** At the bottom of this notebook you'll find different test cases that will help determine if your class works as expected. This lab is ungraded, however, so you don't need to pass all the test cases to move on. Focus instead on exploring what coding alongside an LLM is like, trying the prompting skills, and building your own intuitive sense of how LLMs will best fit into your software development workflow."
   ]
  },
  {
   "cell_type": "markdown",
   "metadata": {},
   "source": [
    "<a name=\"1.1\"></a>\n",
    "### 1.1 Importing necessary libraries"
   ]
  },
  {
   "cell_type": "code",
   "execution_count": 4,
   "metadata": {},
   "outputs": [],
   "source": [
    "import threading # Used to make the class thread-safe"
   ]
  },
  {
   "cell_type": "markdown",
   "metadata": {},
   "source": [
    "<a name=\"2\"></a>\n",
    "## 2 - The `Node` and `LinkedList` Classes to Update\n",
    "Below are the classes you saw in the lectures and that you will be editing. Recall that a linked list is made up of individual nodes that have connections between one another. This class initially is a singly linked list, meaning each node only knows the location of the node that comes after it in the linked list. In a doubly linked list the nodes also know the location of the node that comes before it. \n",
    "\n",
    "**Update both these classes to make the linked list doubly-linked.**"
   ]
  },
  {
   "cell_type": "code",
   "execution_count": 9,
   "metadata": {},
   "outputs": [],
   "source": [
    "class Node:\n",
    "\n",
    "    # Initially each node knows the location of the next\n",
    "    # node in the linked list\n",
    "    def __init__(self, data):\n",
    "        self.data = data\n",
    "        self.next = None\n",
    "\n",
    "class LinkedList:\n",
    "    def __init__(self, max_size=None):\n",
    "        self.head = None\n",
    "        self.size = 0\n",
    "        self.max_size = max_size  \n",
    "        # This class is designed to be thread safe, using locks.\n",
    "        # If you're unfamiliar with multi-threading concepts\n",
    "        # consider asking your LLM for guidance\n",
    "        self.lock = threading.Lock()\n",
    "\n",
    "    def append(self, data):\n",
    "        # Validate input data\n",
    "        if len(data) > 1000:  \n",
    "            raise ValueError(\"Data size exceeds maximum limit\")\n",
    "        with self.lock:           \n",
    "            if self.max_size is not None and self.size >= self.max_size:\n",
    "                raise ValueError(\"Linked list is full\")\n",
    "            new_node = Node(data)\n",
    "            if self.head is None:\n",
    "                self.head = new_node\n",
    "            else:\n",
    "                last = self.head\n",
    "                while last.next:\n",
    "                    last = last.next\n",
    "                last.next = new_node\n",
    "            self.size += 1\n",
    "\n",
    "    def print_list(self):\n",
    "        current = self.head\n",
    "        while current:\n",
    "            print(current.data, end=\" \")\n",
    "            current = current.next\n",
    "\n",
    "    def print_list_reverse(self):\n",
    "        # Print the list from last element to first\n",
    "        # This method is much easier to implement once\n",
    "        # you have a doubly linked list\n",
    "        print(\"print_list_reverse not yet implemented\")\n"
   ]
  },
  {
   "cell_type": "markdown",
   "metadata": {},
   "source": [
    "<a name=\"3\"></a>\n",
    "## 3 - Test Your Classes\n",
    "Below are three tests that should help you validate that your updated class is working as intended."
   ]
  },
  {
   "cell_type": "code",
   "execution_count": 6,
   "metadata": {},
   "outputs": [
    {
     "ename": "TypeError",
     "evalue": "object of type 'int' has no len()",
     "output_type": "error",
     "traceback": [
      "\u001b[0;31m---------------------------------------------------------------------------\u001b[0m",
      "\u001b[0;31mTypeError\u001b[0m                                 Traceback (most recent call last)",
      "Cell \u001b[0;32mIn[6], line 7\u001b[0m\n\u001b[1;32m      5\u001b[0m linked_list \u001b[38;5;241m=\u001b[39m LinkedList()\n\u001b[1;32m      6\u001b[0m linked_list\u001b[38;5;241m.\u001b[39mappend(\u001b[38;5;124m\"\u001b[39m\u001b[38;5;124mA\u001b[39m\u001b[38;5;124m\"\u001b[39m)\n\u001b[0;32m----> 7\u001b[0m \u001b[43mlinked_list\u001b[49m\u001b[38;5;241;43m.\u001b[39;49m\u001b[43mappend\u001b[49m\u001b[43m(\u001b[49m\u001b[38;5;241;43m1\u001b[39;49m\u001b[43m)\u001b[49m\n\u001b[1;32m      8\u001b[0m linked_list\u001b[38;5;241m.\u001b[39mappend(\u001b[38;5;241m0.1\u001b[39m)\n\u001b[1;32m      9\u001b[0m linked_list\u001b[38;5;241m.\u001b[39mprint_list()\n",
      "Cell \u001b[0;32mIn[5], line 21\u001b[0m, in \u001b[0;36mLinkedList.append\u001b[0;34m(self, data)\u001b[0m\n\u001b[1;32m     19\u001b[0m \u001b[38;5;28;01mdef\u001b[39;00m \u001b[38;5;21mappend\u001b[39m(\u001b[38;5;28mself\u001b[39m, data):\n\u001b[1;32m     20\u001b[0m     \u001b[38;5;66;03m# Validate input data\u001b[39;00m\n\u001b[0;32m---> 21\u001b[0m     \u001b[38;5;28;01mif\u001b[39;00m \u001b[38;5;28;43mlen\u001b[39;49m\u001b[43m(\u001b[49m\u001b[43mdata\u001b[49m\u001b[43m)\u001b[49m \u001b[38;5;241m>\u001b[39m \u001b[38;5;241m1000\u001b[39m:  \n\u001b[1;32m     22\u001b[0m         \u001b[38;5;28;01mraise\u001b[39;00m \u001b[38;5;167;01mValueError\u001b[39;00m(\u001b[38;5;124m\"\u001b[39m\u001b[38;5;124mData size exceeds maximum limit\u001b[39m\u001b[38;5;124m\"\u001b[39m)\n\u001b[1;32m     23\u001b[0m     \u001b[38;5;28;01mwith\u001b[39;00m \u001b[38;5;28mself\u001b[39m\u001b[38;5;241m.\u001b[39mlock:           \n",
      "\u001b[0;31mTypeError\u001b[0m: object of type 'int' has no len()"
     ]
    }
   ],
   "source": [
    "# Test 1 - Append Multiple Data Types\n",
    "# As initially designed not all data types can be added to the linked list.\n",
    "# Update the code to allow for additional data types.\n",
    "\n",
    "linked_list = LinkedList()\n",
    "linked_list.append(\"A\")\n",
    "linked_list.append(1)\n",
    "linked_list.append(0.1)\n",
    "linked_list.print_list()\n",
    "\n",
    "# Expected Output:\n",
    "# A 1 0.1"
   ]
  },
  {
   "cell_type": "code",
   "execution_count": 7,
   "metadata": {},
   "outputs": [
    {
     "ename": "TypeError",
     "evalue": "object of type 'int' has no len()",
     "output_type": "error",
     "traceback": [
      "\u001b[0;31m---------------------------------------------------------------------------\u001b[0m",
      "\u001b[0;31mTypeError\u001b[0m                                 Traceback (most recent call last)",
      "Cell \u001b[0;32mIn[7], line 8\u001b[0m\n\u001b[1;32m      6\u001b[0m linked_list\u001b[38;5;241m.\u001b[39mappend(\u001b[38;5;124m\"\u001b[39m\u001b[38;5;124mA\u001b[39m\u001b[38;5;124m\"\u001b[39m)\n\u001b[1;32m      7\u001b[0m linked_list\u001b[38;5;241m.\u001b[39mappend(\u001b[38;5;124m\"\u001b[39m\u001b[38;5;124mB\u001b[39m\u001b[38;5;124m\"\u001b[39m)\n\u001b[0;32m----> 8\u001b[0m \u001b[43mlinked_list\u001b[49m\u001b[38;5;241;43m.\u001b[39;49m\u001b[43mappend\u001b[49m\u001b[43m(\u001b[49m\u001b[38;5;241;43m10\u001b[39;49m\u001b[43m)\u001b[49m\n\u001b[1;32m      9\u001b[0m linked_list\u001b[38;5;241m.\u001b[39mappend(\u001b[38;5;241m20\u001b[39m)\n\u001b[1;32m     10\u001b[0m linked_list\u001b[38;5;241m.\u001b[39mprint_list_reverse()\n",
      "Cell \u001b[0;32mIn[5], line 21\u001b[0m, in \u001b[0;36mLinkedList.append\u001b[0;34m(self, data)\u001b[0m\n\u001b[1;32m     19\u001b[0m \u001b[38;5;28;01mdef\u001b[39;00m \u001b[38;5;21mappend\u001b[39m(\u001b[38;5;28mself\u001b[39m, data):\n\u001b[1;32m     20\u001b[0m     \u001b[38;5;66;03m# Validate input data\u001b[39;00m\n\u001b[0;32m---> 21\u001b[0m     \u001b[38;5;28;01mif\u001b[39;00m \u001b[38;5;28;43mlen\u001b[39;49m\u001b[43m(\u001b[49m\u001b[43mdata\u001b[49m\u001b[43m)\u001b[49m \u001b[38;5;241m>\u001b[39m \u001b[38;5;241m1000\u001b[39m:  \n\u001b[1;32m     22\u001b[0m         \u001b[38;5;28;01mraise\u001b[39;00m \u001b[38;5;167;01mValueError\u001b[39;00m(\u001b[38;5;124m\"\u001b[39m\u001b[38;5;124mData size exceeds maximum limit\u001b[39m\u001b[38;5;124m\"\u001b[39m)\n\u001b[1;32m     23\u001b[0m     \u001b[38;5;28;01mwith\u001b[39;00m \u001b[38;5;28mself\u001b[39m\u001b[38;5;241m.\u001b[39mlock:           \n",
      "\u001b[0;31mTypeError\u001b[0m: object of type 'int' has no len()"
     ]
    }
   ],
   "source": [
    "# Test 2 - Print the Linked List in Reverse\n",
    "# Write the print_list_reverse method. Once your list is doubly linked\n",
    "# this should be a much easier method to write\n",
    "\n",
    "linked_list = LinkedList()\n",
    "linked_list.append(\"A\")\n",
    "linked_list.append(\"B\")\n",
    "linked_list.append(10)\n",
    "linked_list.append(20)\n",
    "linked_list.print_list_reverse()\n",
    "\n",
    "# Expected Output:\n",
    "# 20 10 B A"
   ]
  },
  {
   "cell_type": "code",
   "execution_count": 10,
   "metadata": {},
   "outputs": [
    {
     "name": "stdout",
     "output_type": "stream",
     "text": [
      "1.03 s ± 15.6 ms per loop (mean ± std. dev. of 7 runs, 1 loop each)\n"
     ]
    }
   ],
   "source": [
    "%%timeit\n",
    "# Test 3 - Append 10,000 items rapidly\n",
    "# As initially written this is a very slow process. Your updated class\n",
    "# should be able to find the tail of your linked list (the last node)\n",
    "# very quickly, significantly speeding up this process.\n",
    "# Runtimes will vary substantially but as initially written the append method\n",
    "# will take well more than a second. A refactored doubly linked list class\n",
    "# should take significantly less than a second.\n",
    "\n",
    "linked_list = LinkedList()\n",
    "for i in range(10000):\n",
    "    linked_list.append(\"A\")"
   ]
  },
  {
   "cell_type": "markdown",
   "metadata": {},
   "source": [
    "<a name=\"4\"></a>\n",
    "## 4 - Go Further with Your LLM Prompting Skills\n",
    "\n",
    "The three tests above are simple checks that your class is doubly linked, but it's by no means comprehensive of every concern you'd have about the design of this class. Take some time to experiment with either additional functionality you'd want to add, or prompt the LLM to suggest additions based on new roles, like one of a security or scalability expert. Remember, the most important part of this activity is building your skills working with an LLM, so come up with interesting ways to test what these tools are able to help you accomplish."
   ]
  }
 ],
 "metadata": {
  "kernelspec": {
   "display_name": "Python 3 (ipykernel)",
   "language": "python",
   "name": "python3"
  },
  "language_info": {
   "codemirror_mode": {
    "name": "ipython",
    "version": 3
   },
   "file_extension": ".py",
   "mimetype": "text/x-python",
   "name": "python",
   "nbconvert_exporter": "python",
   "pygments_lexer": "ipython3",
   "version": "3.11.6"
  }
 },
 "nbformat": 4,
 "nbformat_minor": 4
}
